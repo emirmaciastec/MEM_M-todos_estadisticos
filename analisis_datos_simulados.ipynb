{
 "cells": [
  {
   "cell_type": "markdown",
   "id": "55bca3ee",
   "metadata": {},
   "source": [
    "# Análisis de Datos Simulados en Python"
   ]
  },
  {
   "cell_type": "code",
   "execution_count": null,
   "id": "ae5e4b2e",
   "metadata": {},
   "outputs": [],
   "source": [
    "import pandas as pd\n",
    "import numpy as np\n",
    "import matplotlib.pyplot as plt\n",
    "import seaborn as sns\n",
    "from scipy import stats\n",
    "\n",
    "np.random.seed(42)\n",
    "n = 100\n",
    "\n",
    "data = pd.DataFrame({\n",
    "    'Edad': np.random.normal(30, 5, n).round(1),\n",
    "    'Horas_estudio': np.random.poisson(3, n),\n",
    "    'Satisfaccion': np.random.choice(['Baja', 'Media', 'Alta'], size=n, p=[0.2, 0.5, 0.3]),\n",
    "    'Genero': np.random.choice(['Masculino', 'Femenino'], size=n),\n",
    "    'Calificacion': np.random.normal(80, 10, n).clip(0, 100).round(1)\n",
    "})\n",
    "data.head()"
   ]
  },
  {
   "cell_type": "markdown",
   "id": "d636c941",
   "metadata": {},
   "source": [
    "## Estadísticas Descriptivas"
   ]
  },
  {
   "cell_type": "code",
   "execution_count": null,
   "id": "518fcbb0",
   "metadata": {},
   "outputs": [],
   "source": [
    "data.describe()"
   ]
  },
  {
   "cell_type": "markdown",
   "id": "81ebab5c",
   "metadata": {},
   "source": [
    "## Visualizaciones"
   ]
  },
  {
   "cell_type": "code",
   "execution_count": null,
   "id": "3b45c9f1",
   "metadata": {},
   "outputs": [],
   "source": [
    "plt.figure(figsize=(12, 8))\n",
    "\n",
    "plt.subplot(2, 2, 1)\n",
    "sns.histplot(data['Edad'], bins=10, kde=True)\n",
    "plt.title('Distribución de Edad')\n",
    "\n",
    "plt.subplot(2, 2, 2)\n",
    "sns.boxplot(x='Genero', y='Calificacion', data=data)\n",
    "plt.title('Calificación por Género')\n",
    "\n",
    "plt.subplot(2, 2, 3)\n",
    "sns.countplot(x='Satisfaccion', data=data, order=['Baja', 'Media', 'Alta'])\n",
    "plt.title('Niveles de Satisfacción')\n",
    "\n",
    "plt.subplot(2, 2, 4)\n",
    "sns.scatterplot(x='Edad', y='Calificacion', data=data)\n",
    "plt.title('Edad vs Calificación')\n",
    "\n",
    "plt.tight_layout()\n",
    "plt.show()"
   ]
  },
  {
   "cell_type": "markdown",
   "id": "602ad006",
   "metadata": {},
   "source": [
    "## Correlación entre Edad y Calificación"
   ]
  },
  {
   "cell_type": "code",
   "execution_count": null,
   "id": "b7c8ade0",
   "metadata": {},
   "outputs": [],
   "source": [
    "corr, p_value = stats.pearsonr(data['Edad'], data['Calificacion'])\n",
    "print(f'Coeficiente de correlación: {corr:.2f}')\n",
    "print(f'Valor p: {p_value:.4f}')"
   ]
  }
 ],
 "metadata": {},
 "nbformat": 4,
 "nbformat_minor": 5
}
