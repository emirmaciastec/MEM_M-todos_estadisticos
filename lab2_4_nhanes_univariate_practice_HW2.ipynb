{
  "cells": [
    {
      "cell_type": "markdown",
      "metadata": {
        "id": "JcGSLvJUj0oM"
      },
      "source": [
        "# Homework Assignment 2 - Part 3\n",
        "\n",
        "## Lab2 4 Nhanes_univariate_practice"
      ]
    },
    {
      "cell_type": "markdown",
      "metadata": {
        "id": "bSXdgY_fj0oN"
      },
      "source": [
        "# Practice notebook for univariate analysis using NHANES data\n",
        "\n",
        "This notebook will give you the opportunity to perform some univariate analyses on your own using the NHANES.  These analyses are similar to what was done in the week 2 NHANES case study notebook.\n",
        "\n",
        "You can enter your code into the cells that say \"enter your code here\", and you can type responses to the questions into the cells that say \"Type Markdown and Latex\".\n",
        "\n",
        "Note that most of the code that you will need to write below is very similar to code that appears in the case study notebook.  You will need to edit code from that notebook in small ways to adapt it to the prompts below.\n",
        "\n",
        "To get started, we will use the same module imports and read the data in the same way as we did in the case study:"
      ]
    },
    {
      "cell_type": "code",
      "execution_count": 50,
      "metadata": {
        "colab": {
          "base_uri": "https://localhost:8080/",
          "height": 235
        },
        "id": "sq4t0Yn7j0oN",
        "outputId": "f7f0c3b6-ed1e-4c72-c534-7c3bc55573d1"
      },
      "outputs": [
        {
          "output_type": "execute_result",
          "data": {
            "text/plain": [
              "    SEQN  ALQ101  ALQ110  ALQ130  SMQ020  RIAGENDR  RIDAGEYR  RIDRETH1  \\\n",
              "0  83732     1.0     NaN     1.0       1         1        62         3   \n",
              "1  83733     1.0     NaN     6.0       1         1        53         3   \n",
              "2  83734     1.0     NaN     NaN       1         1        78         3   \n",
              "3  83735     2.0     1.0     1.0       2         2        56         3   \n",
              "4  83736     2.0     1.0     1.0       2         2        42         4   \n",
              "\n",
              "   DMDCITZN  DMDEDUC2  ...  BPXSY2  BPXDI2  BMXWT  BMXHT  BMXBMI  BMXLEG  \\\n",
              "0       1.0       5.0  ...   124.0    64.0   94.8  184.5    27.8    43.3   \n",
              "1       2.0       3.0  ...   140.0    88.0   90.4  171.4    30.8    38.0   \n",
              "2       1.0       3.0  ...   132.0    44.0   83.4  170.1    28.8    35.6   \n",
              "3       1.0       5.0  ...   134.0    68.0  109.8  160.9    42.4    38.5   \n",
              "4       1.0       4.0  ...   114.0    54.0   55.2  164.9    20.3    37.4   \n",
              "\n",
              "   BMXARML  BMXARMC  BMXWAIST  HIQ210  \n",
              "0     43.6     35.9     101.1     2.0  \n",
              "1     40.0     33.2     107.9     NaN  \n",
              "2     37.0     31.0     116.5     2.0  \n",
              "3     37.7     38.3     110.1     2.0  \n",
              "4     36.0     27.2      80.4     2.0  \n",
              "\n",
              "[5 rows x 28 columns]"
            ],
            "text/html": [
              "\n",
              "  <div id=\"df-f772d968-8485-4f07-a89d-6ad7b59087ed\" class=\"colab-df-container\">\n",
              "    <div>\n",
              "<style scoped>\n",
              "    .dataframe tbody tr th:only-of-type {\n",
              "        vertical-align: middle;\n",
              "    }\n",
              "\n",
              "    .dataframe tbody tr th {\n",
              "        vertical-align: top;\n",
              "    }\n",
              "\n",
              "    .dataframe thead th {\n",
              "        text-align: right;\n",
              "    }\n",
              "</style>\n",
              "<table border=\"1\" class=\"dataframe\">\n",
              "  <thead>\n",
              "    <tr style=\"text-align: right;\">\n",
              "      <th></th>\n",
              "      <th>SEQN</th>\n",
              "      <th>ALQ101</th>\n",
              "      <th>ALQ110</th>\n",
              "      <th>ALQ130</th>\n",
              "      <th>SMQ020</th>\n",
              "      <th>RIAGENDR</th>\n",
              "      <th>RIDAGEYR</th>\n",
              "      <th>RIDRETH1</th>\n",
              "      <th>DMDCITZN</th>\n",
              "      <th>DMDEDUC2</th>\n",
              "      <th>...</th>\n",
              "      <th>BPXSY2</th>\n",
              "      <th>BPXDI2</th>\n",
              "      <th>BMXWT</th>\n",
              "      <th>BMXHT</th>\n",
              "      <th>BMXBMI</th>\n",
              "      <th>BMXLEG</th>\n",
              "      <th>BMXARML</th>\n",
              "      <th>BMXARMC</th>\n",
              "      <th>BMXWAIST</th>\n",
              "      <th>HIQ210</th>\n",
              "    </tr>\n",
              "  </thead>\n",
              "  <tbody>\n",
              "    <tr>\n",
              "      <th>0</th>\n",
              "      <td>83732</td>\n",
              "      <td>1.0</td>\n",
              "      <td>NaN</td>\n",
              "      <td>1.0</td>\n",
              "      <td>1</td>\n",
              "      <td>1</td>\n",
              "      <td>62</td>\n",
              "      <td>3</td>\n",
              "      <td>1.0</td>\n",
              "      <td>5.0</td>\n",
              "      <td>...</td>\n",
              "      <td>124.0</td>\n",
              "      <td>64.0</td>\n",
              "      <td>94.8</td>\n",
              "      <td>184.5</td>\n",
              "      <td>27.8</td>\n",
              "      <td>43.3</td>\n",
              "      <td>43.6</td>\n",
              "      <td>35.9</td>\n",
              "      <td>101.1</td>\n",
              "      <td>2.0</td>\n",
              "    </tr>\n",
              "    <tr>\n",
              "      <th>1</th>\n",
              "      <td>83733</td>\n",
              "      <td>1.0</td>\n",
              "      <td>NaN</td>\n",
              "      <td>6.0</td>\n",
              "      <td>1</td>\n",
              "      <td>1</td>\n",
              "      <td>53</td>\n",
              "      <td>3</td>\n",
              "      <td>2.0</td>\n",
              "      <td>3.0</td>\n",
              "      <td>...</td>\n",
              "      <td>140.0</td>\n",
              "      <td>88.0</td>\n",
              "      <td>90.4</td>\n",
              "      <td>171.4</td>\n",
              "      <td>30.8</td>\n",
              "      <td>38.0</td>\n",
              "      <td>40.0</td>\n",
              "      <td>33.2</td>\n",
              "      <td>107.9</td>\n",
              "      <td>NaN</td>\n",
              "    </tr>\n",
              "    <tr>\n",
              "      <th>2</th>\n",
              "      <td>83734</td>\n",
              "      <td>1.0</td>\n",
              "      <td>NaN</td>\n",
              "      <td>NaN</td>\n",
              "      <td>1</td>\n",
              "      <td>1</td>\n",
              "      <td>78</td>\n",
              "      <td>3</td>\n",
              "      <td>1.0</td>\n",
              "      <td>3.0</td>\n",
              "      <td>...</td>\n",
              "      <td>132.0</td>\n",
              "      <td>44.0</td>\n",
              "      <td>83.4</td>\n",
              "      <td>170.1</td>\n",
              "      <td>28.8</td>\n",
              "      <td>35.6</td>\n",
              "      <td>37.0</td>\n",
              "      <td>31.0</td>\n",
              "      <td>116.5</td>\n",
              "      <td>2.0</td>\n",
              "    </tr>\n",
              "    <tr>\n",
              "      <th>3</th>\n",
              "      <td>83735</td>\n",
              "      <td>2.0</td>\n",
              "      <td>1.0</td>\n",
              "      <td>1.0</td>\n",
              "      <td>2</td>\n",
              "      <td>2</td>\n",
              "      <td>56</td>\n",
              "      <td>3</td>\n",
              "      <td>1.0</td>\n",
              "      <td>5.0</td>\n",
              "      <td>...</td>\n",
              "      <td>134.0</td>\n",
              "      <td>68.0</td>\n",
              "      <td>109.8</td>\n",
              "      <td>160.9</td>\n",
              "      <td>42.4</td>\n",
              "      <td>38.5</td>\n",
              "      <td>37.7</td>\n",
              "      <td>38.3</td>\n",
              "      <td>110.1</td>\n",
              "      <td>2.0</td>\n",
              "    </tr>\n",
              "    <tr>\n",
              "      <th>4</th>\n",
              "      <td>83736</td>\n",
              "      <td>2.0</td>\n",
              "      <td>1.0</td>\n",
              "      <td>1.0</td>\n",
              "      <td>2</td>\n",
              "      <td>2</td>\n",
              "      <td>42</td>\n",
              "      <td>4</td>\n",
              "      <td>1.0</td>\n",
              "      <td>4.0</td>\n",
              "      <td>...</td>\n",
              "      <td>114.0</td>\n",
              "      <td>54.0</td>\n",
              "      <td>55.2</td>\n",
              "      <td>164.9</td>\n",
              "      <td>20.3</td>\n",
              "      <td>37.4</td>\n",
              "      <td>36.0</td>\n",
              "      <td>27.2</td>\n",
              "      <td>80.4</td>\n",
              "      <td>2.0</td>\n",
              "    </tr>\n",
              "  </tbody>\n",
              "</table>\n",
              "<p>5 rows × 28 columns</p>\n",
              "</div>\n",
              "    <div class=\"colab-df-buttons\">\n",
              "\n",
              "  <div class=\"colab-df-container\">\n",
              "    <button class=\"colab-df-convert\" onclick=\"convertToInteractive('df-f772d968-8485-4f07-a89d-6ad7b59087ed')\"\n",
              "            title=\"Convert this dataframe to an interactive table.\"\n",
              "            style=\"display:none;\">\n",
              "\n",
              "  <svg xmlns=\"http://www.w3.org/2000/svg\" height=\"24px\" viewBox=\"0 -960 960 960\">\n",
              "    <path d=\"M120-120v-720h720v720H120Zm60-500h600v-160H180v160Zm220 220h160v-160H400v160Zm0 220h160v-160H400v160ZM180-400h160v-160H180v160Zm440 0h160v-160H620v160ZM180-180h160v-160H180v160Zm440 0h160v-160H620v160Z\"/>\n",
              "  </svg>\n",
              "    </button>\n",
              "\n",
              "  <style>\n",
              "    .colab-df-container {\n",
              "      display:flex;\n",
              "      gap: 12px;\n",
              "    }\n",
              "\n",
              "    .colab-df-convert {\n",
              "      background-color: #E8F0FE;\n",
              "      border: none;\n",
              "      border-radius: 50%;\n",
              "      cursor: pointer;\n",
              "      display: none;\n",
              "      fill: #1967D2;\n",
              "      height: 32px;\n",
              "      padding: 0 0 0 0;\n",
              "      width: 32px;\n",
              "    }\n",
              "\n",
              "    .colab-df-convert:hover {\n",
              "      background-color: #E2EBFA;\n",
              "      box-shadow: 0px 1px 2px rgba(60, 64, 67, 0.3), 0px 1px 3px 1px rgba(60, 64, 67, 0.15);\n",
              "      fill: #174EA6;\n",
              "    }\n",
              "\n",
              "    .colab-df-buttons div {\n",
              "      margin-bottom: 4px;\n",
              "    }\n",
              "\n",
              "    [theme=dark] .colab-df-convert {\n",
              "      background-color: #3B4455;\n",
              "      fill: #D2E3FC;\n",
              "    }\n",
              "\n",
              "    [theme=dark] .colab-df-convert:hover {\n",
              "      background-color: #434B5C;\n",
              "      box-shadow: 0px 1px 3px 1px rgba(0, 0, 0, 0.15);\n",
              "      filter: drop-shadow(0px 1px 2px rgba(0, 0, 0, 0.3));\n",
              "      fill: #FFFFFF;\n",
              "    }\n",
              "  </style>\n",
              "\n",
              "    <script>\n",
              "      const buttonEl =\n",
              "        document.querySelector('#df-f772d968-8485-4f07-a89d-6ad7b59087ed button.colab-df-convert');\n",
              "      buttonEl.style.display =\n",
              "        google.colab.kernel.accessAllowed ? 'block' : 'none';\n",
              "\n",
              "      async function convertToInteractive(key) {\n",
              "        const element = document.querySelector('#df-f772d968-8485-4f07-a89d-6ad7b59087ed');\n",
              "        const dataTable =\n",
              "          await google.colab.kernel.invokeFunction('convertToInteractive',\n",
              "                                                    [key], {});\n",
              "        if (!dataTable) return;\n",
              "\n",
              "        const docLinkHtml = 'Like what you see? Visit the ' +\n",
              "          '<a target=\"_blank\" href=https://colab.research.google.com/notebooks/data_table.ipynb>data table notebook</a>'\n",
              "          + ' to learn more about interactive tables.';\n",
              "        element.innerHTML = '';\n",
              "        dataTable['output_type'] = 'display_data';\n",
              "        await google.colab.output.renderOutput(dataTable, element);\n",
              "        const docLink = document.createElement('div');\n",
              "        docLink.innerHTML = docLinkHtml;\n",
              "        element.appendChild(docLink);\n",
              "      }\n",
              "    </script>\n",
              "  </div>\n",
              "\n",
              "\n",
              "    <div id=\"df-710d598a-1175-4e7d-ba76-26899b225200\">\n",
              "      <button class=\"colab-df-quickchart\" onclick=\"quickchart('df-710d598a-1175-4e7d-ba76-26899b225200')\"\n",
              "                title=\"Suggest charts\"\n",
              "                style=\"display:none;\">\n",
              "\n",
              "<svg xmlns=\"http://www.w3.org/2000/svg\" height=\"24px\"viewBox=\"0 0 24 24\"\n",
              "     width=\"24px\">\n",
              "    <g>\n",
              "        <path d=\"M19 3H5c-1.1 0-2 .9-2 2v14c0 1.1.9 2 2 2h14c1.1 0 2-.9 2-2V5c0-1.1-.9-2-2-2zM9 17H7v-7h2v7zm4 0h-2V7h2v10zm4 0h-2v-4h2v4z\"/>\n",
              "    </g>\n",
              "</svg>\n",
              "      </button>\n",
              "\n",
              "<style>\n",
              "  .colab-df-quickchart {\n",
              "      --bg-color: #E8F0FE;\n",
              "      --fill-color: #1967D2;\n",
              "      --hover-bg-color: #E2EBFA;\n",
              "      --hover-fill-color: #174EA6;\n",
              "      --disabled-fill-color: #AAA;\n",
              "      --disabled-bg-color: #DDD;\n",
              "  }\n",
              "\n",
              "  [theme=dark] .colab-df-quickchart {\n",
              "      --bg-color: #3B4455;\n",
              "      --fill-color: #D2E3FC;\n",
              "      --hover-bg-color: #434B5C;\n",
              "      --hover-fill-color: #FFFFFF;\n",
              "      --disabled-bg-color: #3B4455;\n",
              "      --disabled-fill-color: #666;\n",
              "  }\n",
              "\n",
              "  .colab-df-quickchart {\n",
              "    background-color: var(--bg-color);\n",
              "    border: none;\n",
              "    border-radius: 50%;\n",
              "    cursor: pointer;\n",
              "    display: none;\n",
              "    fill: var(--fill-color);\n",
              "    height: 32px;\n",
              "    padding: 0;\n",
              "    width: 32px;\n",
              "  }\n",
              "\n",
              "  .colab-df-quickchart:hover {\n",
              "    background-color: var(--hover-bg-color);\n",
              "    box-shadow: 0 1px 2px rgba(60, 64, 67, 0.3), 0 1px 3px 1px rgba(60, 64, 67, 0.15);\n",
              "    fill: var(--button-hover-fill-color);\n",
              "  }\n",
              "\n",
              "  .colab-df-quickchart-complete:disabled,\n",
              "  .colab-df-quickchart-complete:disabled:hover {\n",
              "    background-color: var(--disabled-bg-color);\n",
              "    fill: var(--disabled-fill-color);\n",
              "    box-shadow: none;\n",
              "  }\n",
              "\n",
              "  .colab-df-spinner {\n",
              "    border: 2px solid var(--fill-color);\n",
              "    border-color: transparent;\n",
              "    border-bottom-color: var(--fill-color);\n",
              "    animation:\n",
              "      spin 1s steps(1) infinite;\n",
              "  }\n",
              "\n",
              "  @keyframes spin {\n",
              "    0% {\n",
              "      border-color: transparent;\n",
              "      border-bottom-color: var(--fill-color);\n",
              "      border-left-color: var(--fill-color);\n",
              "    }\n",
              "    20% {\n",
              "      border-color: transparent;\n",
              "      border-left-color: var(--fill-color);\n",
              "      border-top-color: var(--fill-color);\n",
              "    }\n",
              "    30% {\n",
              "      border-color: transparent;\n",
              "      border-left-color: var(--fill-color);\n",
              "      border-top-color: var(--fill-color);\n",
              "      border-right-color: var(--fill-color);\n",
              "    }\n",
              "    40% {\n",
              "      border-color: transparent;\n",
              "      border-right-color: var(--fill-color);\n",
              "      border-top-color: var(--fill-color);\n",
              "    }\n",
              "    60% {\n",
              "      border-color: transparent;\n",
              "      border-right-color: var(--fill-color);\n",
              "    }\n",
              "    80% {\n",
              "      border-color: transparent;\n",
              "      border-right-color: var(--fill-color);\n",
              "      border-bottom-color: var(--fill-color);\n",
              "    }\n",
              "    90% {\n",
              "      border-color: transparent;\n",
              "      border-bottom-color: var(--fill-color);\n",
              "    }\n",
              "  }\n",
              "</style>\n",
              "\n",
              "      <script>\n",
              "        async function quickchart(key) {\n",
              "          const quickchartButtonEl =\n",
              "            document.querySelector('#' + key + ' button');\n",
              "          quickchartButtonEl.disabled = true;  // To prevent multiple clicks.\n",
              "          quickchartButtonEl.classList.add('colab-df-spinner');\n",
              "          try {\n",
              "            const charts = await google.colab.kernel.invokeFunction(\n",
              "                'suggestCharts', [key], {});\n",
              "          } catch (error) {\n",
              "            console.error('Error during call to suggestCharts:', error);\n",
              "          }\n",
              "          quickchartButtonEl.classList.remove('colab-df-spinner');\n",
              "          quickchartButtonEl.classList.add('colab-df-quickchart-complete');\n",
              "        }\n",
              "        (() => {\n",
              "          let quickchartButtonEl =\n",
              "            document.querySelector('#df-710d598a-1175-4e7d-ba76-26899b225200 button');\n",
              "          quickchartButtonEl.style.display =\n",
              "            google.colab.kernel.accessAllowed ? 'block' : 'none';\n",
              "        })();\n",
              "      </script>\n",
              "    </div>\n",
              "\n",
              "    </div>\n",
              "  </div>\n"
            ],
            "application/vnd.google.colaboratory.intrinsic+json": {
              "type": "dataframe",
              "variable_name": "da"
            }
          },
          "metadata": {},
          "execution_count": 50
        }
      ],
      "source": [
        "%matplotlib inline\n",
        "import matplotlib.pyplot as plt\n",
        "import seaborn as sns\n",
        "import pandas as pd\n",
        "import statsmodels.api as sm\n",
        "import numpy as np\n",
        "\n",
        "da = pd.read_csv(\"https://raw.githubusercontent.com/emirmaciastec/MEM_M-todos_estadisticos/refs/heads/main/nhanes_2015_2016-1.csv\")\n",
        "da.head()"
      ]
    },
    {
      "cell_type": "markdown",
      "metadata": {
        "id": "GnWJxJLZj0oO"
      },
      "source": [
        "## Question 1\n",
        "\n",
        "Relabel the marital status variable [DMDMARTL](https://wwwn.cdc.gov/Nchs/Nhanes/2015-2016/DEMO_I.htm#DMDMARTL) to have brief but informative character labels.  Then construct a frequency table of these values for all people, then for women only, and for men only.  Then construct these three frequency tables using only people whose age is between 30 and 40."
      ]
    },
    {
      "cell_type": "code",
      "source": [
        "print(da.DMDMARTL.value_counts().sum())\n"
      ],
      "metadata": {
        "colab": {
          "base_uri": "https://localhost:8080/"
        },
        "id": "4z9RFT_xuNTo",
        "outputId": "0e2bde20-3f79-47e1-93e3-fdd44a8b6d65"
      },
      "execution_count": 52,
      "outputs": [
        {
          "output_type": "stream",
          "name": "stdout",
          "text": [
            "5474\n"
          ]
        }
      ]
    },
    {
      "cell_type": "code",
      "source": [
        "# insert your code here\n",
        "\n",
        "#da = da.rename(columns={'DMDMARTL': 'Marital Status'})\n",
        "da[\"Marital Status\"] = da.DMDMARTL\n",
        "da[\"Gender\"] = da.RIAGENDR\n",
        "\n",
        "da['Marital Status'] = da['Marital Status'].replace({\n",
        "    1.0: 'Married',\n",
        "    2.0: 'Widowed',\n",
        "    3.0: 'Divorced',\n",
        "    4.0: 'Separated',\n",
        "    5.0: 'Never married',\n",
        "    6.0: 'Living with partner',\n",
        "    77.0: 'Refused',\n",
        "    99.0: 'Don\\'t know'\n",
        "})\n",
        "\n",
        "da['Gender'] = da['Gender'].replace({\n",
        "    1.0: 'Male',\n",
        "    2.0: 'Female'\n",
        "})\n",
        "\n",
        "# Frequency table for all people\n",
        "print(\"Frequency table for all people:\")\n",
        "display(da['Marital Status'].value_counts())\n",
        "\n",
        "# Frequency table for women only\n",
        "print(\"\\nFrequency table for women only:\")\n",
        "display(da[da['RIAGENDR'] == 2]['Marital Status'].value_counts())\n",
        "\n",
        "# Frequency table for men only\n",
        "print(\"\\nFrequency table for men only:\")\n",
        "display(da[da['RIAGENDR'] == 1]['Marital Status'].value_counts())\n",
        "\n",
        "# Frequency table for people aged 30-40\n",
        "print(\"\\nFrequency table for people aged 30-40:\")\n",
        "age_30_40 = da[(da['RIDAGEYR'] >= 30) & (da['RIDAGEYR'] <= 40)]\n",
        "display(age_30_40['Marital Status'].value_counts())\n",
        "\n",
        "# Frequency table for women aged 30-40\n",
        "print(\"\\nFrequency table for women aged 30-40:\")\n",
        "women_30_40 = age_30_40[age_30_40['RIAGENDR'] == 2]\n",
        "display(women_30_40['Marital Status'].value_counts())\n",
        "\n",
        "# Frequency table for men aged 30-40\n",
        "print(\"\\nFrequency table for men aged 30-40:\")\n",
        "men_30_40 = age_30_40[age_30_40['RIAGENDR'] == 1]\n",
        "display(men_30_40['Marital Status'].value_counts())"
      ],
      "metadata": {
        "colab": {
          "base_uri": "https://localhost:8080/",
          "height": 1000
        },
        "id": "t_XjADvPsysj",
        "outputId": "6b66b3f8-a5f2-4b64-e530-8916e302886d"
      },
      "execution_count": 54,
      "outputs": [
        {
          "output_type": "stream",
          "name": "stdout",
          "text": [
            "Frequency table for all people:\n"
          ]
        },
        {
          "output_type": "display_data",
          "data": {
            "text/plain": [
              "Marital Status\n",
              "Married                2780\n",
              "Never married          1004\n",
              "Divorced                579\n",
              "Living with partner     527\n",
              "Widowed                 396\n",
              "Separated               186\n",
              "Refused                   2\n",
              "Name: count, dtype: int64"
            ],
            "text/html": [
              "<div>\n",
              "<style scoped>\n",
              "    .dataframe tbody tr th:only-of-type {\n",
              "        vertical-align: middle;\n",
              "    }\n",
              "\n",
              "    .dataframe tbody tr th {\n",
              "        vertical-align: top;\n",
              "    }\n",
              "\n",
              "    .dataframe thead th {\n",
              "        text-align: right;\n",
              "    }\n",
              "</style>\n",
              "<table border=\"1\" class=\"dataframe\">\n",
              "  <thead>\n",
              "    <tr style=\"text-align: right;\">\n",
              "      <th></th>\n",
              "      <th>count</th>\n",
              "    </tr>\n",
              "    <tr>\n",
              "      <th>Marital Status</th>\n",
              "      <th></th>\n",
              "    </tr>\n",
              "  </thead>\n",
              "  <tbody>\n",
              "    <tr>\n",
              "      <th>Married</th>\n",
              "      <td>2780</td>\n",
              "    </tr>\n",
              "    <tr>\n",
              "      <th>Never married</th>\n",
              "      <td>1004</td>\n",
              "    </tr>\n",
              "    <tr>\n",
              "      <th>Divorced</th>\n",
              "      <td>579</td>\n",
              "    </tr>\n",
              "    <tr>\n",
              "      <th>Living with partner</th>\n",
              "      <td>527</td>\n",
              "    </tr>\n",
              "    <tr>\n",
              "      <th>Widowed</th>\n",
              "      <td>396</td>\n",
              "    </tr>\n",
              "    <tr>\n",
              "      <th>Separated</th>\n",
              "      <td>186</td>\n",
              "    </tr>\n",
              "    <tr>\n",
              "      <th>Refused</th>\n",
              "      <td>2</td>\n",
              "    </tr>\n",
              "  </tbody>\n",
              "</table>\n",
              "</div><br><label><b>dtype:</b> int64</label>"
            ]
          },
          "metadata": {}
        },
        {
          "output_type": "stream",
          "name": "stdout",
          "text": [
            "\n",
            "Frequency table for women only:\n"
          ]
        },
        {
          "output_type": "display_data",
          "data": {
            "text/plain": [
              "Marital Status\n",
              "Married                1303\n",
              "Never married           520\n",
              "Divorced                350\n",
              "Widowed                 296\n",
              "Living with partner     262\n",
              "Separated               118\n",
              "Refused                   1\n",
              "Name: count, dtype: int64"
            ],
            "text/html": [
              "<div>\n",
              "<style scoped>\n",
              "    .dataframe tbody tr th:only-of-type {\n",
              "        vertical-align: middle;\n",
              "    }\n",
              "\n",
              "    .dataframe tbody tr th {\n",
              "        vertical-align: top;\n",
              "    }\n",
              "\n",
              "    .dataframe thead th {\n",
              "        text-align: right;\n",
              "    }\n",
              "</style>\n",
              "<table border=\"1\" class=\"dataframe\">\n",
              "  <thead>\n",
              "    <tr style=\"text-align: right;\">\n",
              "      <th></th>\n",
              "      <th>count</th>\n",
              "    </tr>\n",
              "    <tr>\n",
              "      <th>Marital Status</th>\n",
              "      <th></th>\n",
              "    </tr>\n",
              "  </thead>\n",
              "  <tbody>\n",
              "    <tr>\n",
              "      <th>Married</th>\n",
              "      <td>1303</td>\n",
              "    </tr>\n",
              "    <tr>\n",
              "      <th>Never married</th>\n",
              "      <td>520</td>\n",
              "    </tr>\n",
              "    <tr>\n",
              "      <th>Divorced</th>\n",
              "      <td>350</td>\n",
              "    </tr>\n",
              "    <tr>\n",
              "      <th>Widowed</th>\n",
              "      <td>296</td>\n",
              "    </tr>\n",
              "    <tr>\n",
              "      <th>Living with partner</th>\n",
              "      <td>262</td>\n",
              "    </tr>\n",
              "    <tr>\n",
              "      <th>Separated</th>\n",
              "      <td>118</td>\n",
              "    </tr>\n",
              "    <tr>\n",
              "      <th>Refused</th>\n",
              "      <td>1</td>\n",
              "    </tr>\n",
              "  </tbody>\n",
              "</table>\n",
              "</div><br><label><b>dtype:</b> int64</label>"
            ]
          },
          "metadata": {}
        },
        {
          "output_type": "stream",
          "name": "stdout",
          "text": [
            "\n",
            "Frequency table for men only:\n"
          ]
        },
        {
          "output_type": "display_data",
          "data": {
            "text/plain": [
              "Marital Status\n",
              "Married                1477\n",
              "Never married           484\n",
              "Living with partner     265\n",
              "Divorced                229\n",
              "Widowed                 100\n",
              "Separated                68\n",
              "Refused                   1\n",
              "Name: count, dtype: int64"
            ],
            "text/html": [
              "<div>\n",
              "<style scoped>\n",
              "    .dataframe tbody tr th:only-of-type {\n",
              "        vertical-align: middle;\n",
              "    }\n",
              "\n",
              "    .dataframe tbody tr th {\n",
              "        vertical-align: top;\n",
              "    }\n",
              "\n",
              "    .dataframe thead th {\n",
              "        text-align: right;\n",
              "    }\n",
              "</style>\n",
              "<table border=\"1\" class=\"dataframe\">\n",
              "  <thead>\n",
              "    <tr style=\"text-align: right;\">\n",
              "      <th></th>\n",
              "      <th>count</th>\n",
              "    </tr>\n",
              "    <tr>\n",
              "      <th>Marital Status</th>\n",
              "      <th></th>\n",
              "    </tr>\n",
              "  </thead>\n",
              "  <tbody>\n",
              "    <tr>\n",
              "      <th>Married</th>\n",
              "      <td>1477</td>\n",
              "    </tr>\n",
              "    <tr>\n",
              "      <th>Never married</th>\n",
              "      <td>484</td>\n",
              "    </tr>\n",
              "    <tr>\n",
              "      <th>Living with partner</th>\n",
              "      <td>265</td>\n",
              "    </tr>\n",
              "    <tr>\n",
              "      <th>Divorced</th>\n",
              "      <td>229</td>\n",
              "    </tr>\n",
              "    <tr>\n",
              "      <th>Widowed</th>\n",
              "      <td>100</td>\n",
              "    </tr>\n",
              "    <tr>\n",
              "      <th>Separated</th>\n",
              "      <td>68</td>\n",
              "    </tr>\n",
              "    <tr>\n",
              "      <th>Refused</th>\n",
              "      <td>1</td>\n",
              "    </tr>\n",
              "  </tbody>\n",
              "</table>\n",
              "</div><br><label><b>dtype:</b> int64</label>"
            ]
          },
          "metadata": {}
        },
        {
          "output_type": "stream",
          "name": "stdout",
          "text": [
            "\n",
            "Frequency table for people aged 30-40:\n"
          ]
        },
        {
          "output_type": "display_data",
          "data": {
            "text/plain": [
              "Marital Status\n",
              "Married                560\n",
              "Never married          217\n",
              "Living with partner    143\n",
              "Divorced                70\n",
              "Separated               30\n",
              "Widowed                  5\n",
              "Refused                  1\n",
              "Name: count, dtype: int64"
            ],
            "text/html": [
              "<div>\n",
              "<style scoped>\n",
              "    .dataframe tbody tr th:only-of-type {\n",
              "        vertical-align: middle;\n",
              "    }\n",
              "\n",
              "    .dataframe tbody tr th {\n",
              "        vertical-align: top;\n",
              "    }\n",
              "\n",
              "    .dataframe thead th {\n",
              "        text-align: right;\n",
              "    }\n",
              "</style>\n",
              "<table border=\"1\" class=\"dataframe\">\n",
              "  <thead>\n",
              "    <tr style=\"text-align: right;\">\n",
              "      <th></th>\n",
              "      <th>count</th>\n",
              "    </tr>\n",
              "    <tr>\n",
              "      <th>Marital Status</th>\n",
              "      <th></th>\n",
              "    </tr>\n",
              "  </thead>\n",
              "  <tbody>\n",
              "    <tr>\n",
              "      <th>Married</th>\n",
              "      <td>560</td>\n",
              "    </tr>\n",
              "    <tr>\n",
              "      <th>Never married</th>\n",
              "      <td>217</td>\n",
              "    </tr>\n",
              "    <tr>\n",
              "      <th>Living with partner</th>\n",
              "      <td>143</td>\n",
              "    </tr>\n",
              "    <tr>\n",
              "      <th>Divorced</th>\n",
              "      <td>70</td>\n",
              "    </tr>\n",
              "    <tr>\n",
              "      <th>Separated</th>\n",
              "      <td>30</td>\n",
              "    </tr>\n",
              "    <tr>\n",
              "      <th>Widowed</th>\n",
              "      <td>5</td>\n",
              "    </tr>\n",
              "    <tr>\n",
              "      <th>Refused</th>\n",
              "      <td>1</td>\n",
              "    </tr>\n",
              "  </tbody>\n",
              "</table>\n",
              "</div><br><label><b>dtype:</b> int64</label>"
            ]
          },
          "metadata": {}
        },
        {
          "output_type": "stream",
          "name": "stdout",
          "text": [
            "\n",
            "Frequency table for women aged 30-40:\n"
          ]
        },
        {
          "output_type": "display_data",
          "data": {
            "text/plain": [
              "Marital Status\n",
              "Married                285\n",
              "Never married          116\n",
              "Living with partner     65\n",
              "Divorced                46\n",
              "Separated               18\n",
              "Widowed                  2\n",
              "Name: count, dtype: int64"
            ],
            "text/html": [
              "<div>\n",
              "<style scoped>\n",
              "    .dataframe tbody tr th:only-of-type {\n",
              "        vertical-align: middle;\n",
              "    }\n",
              "\n",
              "    .dataframe tbody tr th {\n",
              "        vertical-align: top;\n",
              "    }\n",
              "\n",
              "    .dataframe thead th {\n",
              "        text-align: right;\n",
              "    }\n",
              "</style>\n",
              "<table border=\"1\" class=\"dataframe\">\n",
              "  <thead>\n",
              "    <tr style=\"text-align: right;\">\n",
              "      <th></th>\n",
              "      <th>count</th>\n",
              "    </tr>\n",
              "    <tr>\n",
              "      <th>Marital Status</th>\n",
              "      <th></th>\n",
              "    </tr>\n",
              "  </thead>\n",
              "  <tbody>\n",
              "    <tr>\n",
              "      <th>Married</th>\n",
              "      <td>285</td>\n",
              "    </tr>\n",
              "    <tr>\n",
              "      <th>Never married</th>\n",
              "      <td>116</td>\n",
              "    </tr>\n",
              "    <tr>\n",
              "      <th>Living with partner</th>\n",
              "      <td>65</td>\n",
              "    </tr>\n",
              "    <tr>\n",
              "      <th>Divorced</th>\n",
              "      <td>46</td>\n",
              "    </tr>\n",
              "    <tr>\n",
              "      <th>Separated</th>\n",
              "      <td>18</td>\n",
              "    </tr>\n",
              "    <tr>\n",
              "      <th>Widowed</th>\n",
              "      <td>2</td>\n",
              "    </tr>\n",
              "  </tbody>\n",
              "</table>\n",
              "</div><br><label><b>dtype:</b> int64</label>"
            ]
          },
          "metadata": {}
        },
        {
          "output_type": "stream",
          "name": "stdout",
          "text": [
            "\n",
            "Frequency table for men aged 30-40:\n"
          ]
        },
        {
          "output_type": "display_data",
          "data": {
            "text/plain": [
              "Marital Status\n",
              "Married                275\n",
              "Never married          101\n",
              "Living with partner     78\n",
              "Divorced                24\n",
              "Separated               12\n",
              "Widowed                  3\n",
              "Refused                  1\n",
              "Name: count, dtype: int64"
            ],
            "text/html": [
              "<div>\n",
              "<style scoped>\n",
              "    .dataframe tbody tr th:only-of-type {\n",
              "        vertical-align: middle;\n",
              "    }\n",
              "\n",
              "    .dataframe tbody tr th {\n",
              "        vertical-align: top;\n",
              "    }\n",
              "\n",
              "    .dataframe thead th {\n",
              "        text-align: right;\n",
              "    }\n",
              "</style>\n",
              "<table border=\"1\" class=\"dataframe\">\n",
              "  <thead>\n",
              "    <tr style=\"text-align: right;\">\n",
              "      <th></th>\n",
              "      <th>count</th>\n",
              "    </tr>\n",
              "    <tr>\n",
              "      <th>Marital Status</th>\n",
              "      <th></th>\n",
              "    </tr>\n",
              "  </thead>\n",
              "  <tbody>\n",
              "    <tr>\n",
              "      <th>Married</th>\n",
              "      <td>275</td>\n",
              "    </tr>\n",
              "    <tr>\n",
              "      <th>Never married</th>\n",
              "      <td>101</td>\n",
              "    </tr>\n",
              "    <tr>\n",
              "      <th>Living with partner</th>\n",
              "      <td>78</td>\n",
              "    </tr>\n",
              "    <tr>\n",
              "      <th>Divorced</th>\n",
              "      <td>24</td>\n",
              "    </tr>\n",
              "    <tr>\n",
              "      <th>Separated</th>\n",
              "      <td>12</td>\n",
              "    </tr>\n",
              "    <tr>\n",
              "      <th>Widowed</th>\n",
              "      <td>3</td>\n",
              "    </tr>\n",
              "    <tr>\n",
              "      <th>Refused</th>\n",
              "      <td>1</td>\n",
              "    </tr>\n",
              "  </tbody>\n",
              "</table>\n",
              "</div><br><label><b>dtype:</b> int64</label>"
            ]
          },
          "metadata": {}
        }
      ]
    },
    {
      "cell_type": "markdown",
      "metadata": {
        "id": "aXGvq0wrj0oO"
      },
      "source": [
        "__Q1a.__ Briefly comment on some of the differences that you observe between the distribution of marital status between women and men, for people of all ages."
      ]
    },
    {
      "cell_type": "raw",
      "metadata": {
        "id": "sMwieyPrj0oO"
      },
      "source": []
    },
    {
      "cell_type": "markdown",
      "metadata": {
        "id": "faWKZ_mnj0oO"
      },
      "source": [
        "__Q1b.__ Briefly comment on the differences that you observe between the distribution of marital status states for women between the overall population, and for women between the ages of 30 and 40."
      ]
    },
    {
      "cell_type": "raw",
      "metadata": {
        "id": "bJPaUifYj0oO"
      },
      "source": []
    },
    {
      "cell_type": "markdown",
      "metadata": {
        "id": "QYyKxA8Rj0oO"
      },
      "source": [
        "__Q1c.__ Repeat part b for the men."
      ]
    },
    {
      "cell_type": "raw",
      "metadata": {
        "id": "T3xFUsIXj0oO"
      },
      "source": []
    },
    {
      "cell_type": "markdown",
      "metadata": {
        "id": "-80-1Qgaj0oO"
      },
      "source": [
        "## Question 2\n",
        "\n",
        "Restricting to the female population, stratify the subjects into age bands no wider than ten years, and construct the distribution of marital status within each age band.  Within each age band, present the distribution in terms of proportions that must sum to 1."
      ]
    },
    {
      "cell_type": "code",
      "execution_count": 57,
      "metadata": {
        "colab": {
          "base_uri": "https://localhost:8080/",
          "height": 331
        },
        "id": "X9BPLns3j0oO",
        "outputId": "d7ace5a9-636b-47da-d90a-69336079cc3b"
      },
      "outputs": [
        {
          "output_type": "display_data",
          "data": {
            "text/plain": [
              "Marital Status  Divorced  Living with partner   Married  Never married  \\\n",
              "AgeBand                                                                  \n",
              "[0, 10)         0.000000             0.000000  0.000000       0.000000   \n",
              "[10, 20)        0.000000             0.000000  0.000000       0.000000   \n",
              "[20, 30)        0.016162             0.214141  0.264646       0.484848   \n",
              "[30, 40)        0.079002             0.130977  0.530146       0.222453   \n",
              "[40, 50)        0.138943             0.076321  0.569472       0.133072   \n",
              "[50, 60)        0.179601             0.062084  0.549889       0.086475   \n",
              "[60, 70)        0.183761             0.047009  0.497863       0.091880   \n",
              "[70, 80)        0.181818             0.007576  0.363636       0.049242   \n",
              "\n",
              "Marital Status   Refused  Separated   Widowed  \n",
              "AgeBand                                        \n",
              "[0, 10)         0.000000   0.000000  0.000000  \n",
              "[10, 20)        0.000000   0.000000  0.000000  \n",
              "[20, 30)        0.000000   0.020202  0.000000  \n",
              "[30, 40)        0.000000   0.033264  0.004158  \n",
              "[40, 50)        0.000000   0.062622  0.019569  \n",
              "[50, 60)        0.000000   0.062084  0.059867  \n",
              "[60, 70)        0.002137   0.044872  0.132479  \n",
              "[70, 80)        0.000000   0.034091  0.363636  "
            ],
            "text/html": [
              "\n",
              "  <div id=\"df-1d4cf936-1aed-4daf-921b-a5ee7195ace1\" class=\"colab-df-container\">\n",
              "    <div>\n",
              "<style scoped>\n",
              "    .dataframe tbody tr th:only-of-type {\n",
              "        vertical-align: middle;\n",
              "    }\n",
              "\n",
              "    .dataframe tbody tr th {\n",
              "        vertical-align: top;\n",
              "    }\n",
              "\n",
              "    .dataframe thead th {\n",
              "        text-align: right;\n",
              "    }\n",
              "</style>\n",
              "<table border=\"1\" class=\"dataframe\">\n",
              "  <thead>\n",
              "    <tr style=\"text-align: right;\">\n",
              "      <th>Marital Status</th>\n",
              "      <th>Divorced</th>\n",
              "      <th>Living with partner</th>\n",
              "      <th>Married</th>\n",
              "      <th>Never married</th>\n",
              "      <th>Refused</th>\n",
              "      <th>Separated</th>\n",
              "      <th>Widowed</th>\n",
              "    </tr>\n",
              "    <tr>\n",
              "      <th>AgeBand</th>\n",
              "      <th></th>\n",
              "      <th></th>\n",
              "      <th></th>\n",
              "      <th></th>\n",
              "      <th></th>\n",
              "      <th></th>\n",
              "      <th></th>\n",
              "    </tr>\n",
              "  </thead>\n",
              "  <tbody>\n",
              "    <tr>\n",
              "      <th>[0, 10)</th>\n",
              "      <td>0.000000</td>\n",
              "      <td>0.000000</td>\n",
              "      <td>0.000000</td>\n",
              "      <td>0.000000</td>\n",
              "      <td>0.000000</td>\n",
              "      <td>0.000000</td>\n",
              "      <td>0.000000</td>\n",
              "    </tr>\n",
              "    <tr>\n",
              "      <th>[10, 20)</th>\n",
              "      <td>0.000000</td>\n",
              "      <td>0.000000</td>\n",
              "      <td>0.000000</td>\n",
              "      <td>0.000000</td>\n",
              "      <td>0.000000</td>\n",
              "      <td>0.000000</td>\n",
              "      <td>0.000000</td>\n",
              "    </tr>\n",
              "    <tr>\n",
              "      <th>[20, 30)</th>\n",
              "      <td>0.016162</td>\n",
              "      <td>0.214141</td>\n",
              "      <td>0.264646</td>\n",
              "      <td>0.484848</td>\n",
              "      <td>0.000000</td>\n",
              "      <td>0.020202</td>\n",
              "      <td>0.000000</td>\n",
              "    </tr>\n",
              "    <tr>\n",
              "      <th>[30, 40)</th>\n",
              "      <td>0.079002</td>\n",
              "      <td>0.130977</td>\n",
              "      <td>0.530146</td>\n",
              "      <td>0.222453</td>\n",
              "      <td>0.000000</td>\n",
              "      <td>0.033264</td>\n",
              "      <td>0.004158</td>\n",
              "    </tr>\n",
              "    <tr>\n",
              "      <th>[40, 50)</th>\n",
              "      <td>0.138943</td>\n",
              "      <td>0.076321</td>\n",
              "      <td>0.569472</td>\n",
              "      <td>0.133072</td>\n",
              "      <td>0.000000</td>\n",
              "      <td>0.062622</td>\n",
              "      <td>0.019569</td>\n",
              "    </tr>\n",
              "    <tr>\n",
              "      <th>[50, 60)</th>\n",
              "      <td>0.179601</td>\n",
              "      <td>0.062084</td>\n",
              "      <td>0.549889</td>\n",
              "      <td>0.086475</td>\n",
              "      <td>0.000000</td>\n",
              "      <td>0.062084</td>\n",
              "      <td>0.059867</td>\n",
              "    </tr>\n",
              "    <tr>\n",
              "      <th>[60, 70)</th>\n",
              "      <td>0.183761</td>\n",
              "      <td>0.047009</td>\n",
              "      <td>0.497863</td>\n",
              "      <td>0.091880</td>\n",
              "      <td>0.002137</td>\n",
              "      <td>0.044872</td>\n",
              "      <td>0.132479</td>\n",
              "    </tr>\n",
              "    <tr>\n",
              "      <th>[70, 80)</th>\n",
              "      <td>0.181818</td>\n",
              "      <td>0.007576</td>\n",
              "      <td>0.363636</td>\n",
              "      <td>0.049242</td>\n",
              "      <td>0.000000</td>\n",
              "      <td>0.034091</td>\n",
              "      <td>0.363636</td>\n",
              "    </tr>\n",
              "  </tbody>\n",
              "</table>\n",
              "</div>\n",
              "    <div class=\"colab-df-buttons\">\n",
              "\n",
              "  <div class=\"colab-df-container\">\n",
              "    <button class=\"colab-df-convert\" onclick=\"convertToInteractive('df-1d4cf936-1aed-4daf-921b-a5ee7195ace1')\"\n",
              "            title=\"Convert this dataframe to an interactive table.\"\n",
              "            style=\"display:none;\">\n",
              "\n",
              "  <svg xmlns=\"http://www.w3.org/2000/svg\" height=\"24px\" viewBox=\"0 -960 960 960\">\n",
              "    <path d=\"M120-120v-720h720v720H120Zm60-500h600v-160H180v160Zm220 220h160v-160H400v160Zm0 220h160v-160H400v160ZM180-400h160v-160H180v160Zm440 0h160v-160H620v160ZM180-180h160v-160H180v160Zm440 0h160v-160H620v160Z\"/>\n",
              "  </svg>\n",
              "    </button>\n",
              "\n",
              "  <style>\n",
              "    .colab-df-container {\n",
              "      display:flex;\n",
              "      gap: 12px;\n",
              "    }\n",
              "\n",
              "    .colab-df-convert {\n",
              "      background-color: #E8F0FE;\n",
              "      border: none;\n",
              "      border-radius: 50%;\n",
              "      cursor: pointer;\n",
              "      display: none;\n",
              "      fill: #1967D2;\n",
              "      height: 32px;\n",
              "      padding: 0 0 0 0;\n",
              "      width: 32px;\n",
              "    }\n",
              "\n",
              "    .colab-df-convert:hover {\n",
              "      background-color: #E2EBFA;\n",
              "      box-shadow: 0px 1px 2px rgba(60, 64, 67, 0.3), 0px 1px 3px 1px rgba(60, 64, 67, 0.15);\n",
              "      fill: #174EA6;\n",
              "    }\n",
              "\n",
              "    .colab-df-buttons div {\n",
              "      margin-bottom: 4px;\n",
              "    }\n",
              "\n",
              "    [theme=dark] .colab-df-convert {\n",
              "      background-color: #3B4455;\n",
              "      fill: #D2E3FC;\n",
              "    }\n",
              "\n",
              "    [theme=dark] .colab-df-convert:hover {\n",
              "      background-color: #434B5C;\n",
              "      box-shadow: 0px 1px 3px 1px rgba(0, 0, 0, 0.15);\n",
              "      filter: drop-shadow(0px 1px 2px rgba(0, 0, 0, 0.3));\n",
              "      fill: #FFFFFF;\n",
              "    }\n",
              "  </style>\n",
              "\n",
              "    <script>\n",
              "      const buttonEl =\n",
              "        document.querySelector('#df-1d4cf936-1aed-4daf-921b-a5ee7195ace1 button.colab-df-convert');\n",
              "      buttonEl.style.display =\n",
              "        google.colab.kernel.accessAllowed ? 'block' : 'none';\n",
              "\n",
              "      async function convertToInteractive(key) {\n",
              "        const element = document.querySelector('#df-1d4cf936-1aed-4daf-921b-a5ee7195ace1');\n",
              "        const dataTable =\n",
              "          await google.colab.kernel.invokeFunction('convertToInteractive',\n",
              "                                                    [key], {});\n",
              "        if (!dataTable) return;\n",
              "\n",
              "        const docLinkHtml = 'Like what you see? Visit the ' +\n",
              "          '<a target=\"_blank\" href=https://colab.research.google.com/notebooks/data_table.ipynb>data table notebook</a>'\n",
              "          + ' to learn more about interactive tables.';\n",
              "        element.innerHTML = '';\n",
              "        dataTable['output_type'] = 'display_data';\n",
              "        await google.colab.output.renderOutput(dataTable, element);\n",
              "        const docLink = document.createElement('div');\n",
              "        docLink.innerHTML = docLinkHtml;\n",
              "        element.appendChild(docLink);\n",
              "      }\n",
              "    </script>\n",
              "  </div>\n",
              "\n",
              "\n",
              "    <div id=\"df-1d8a0139-876f-43d7-9332-0cb864e36985\">\n",
              "      <button class=\"colab-df-quickchart\" onclick=\"quickchart('df-1d8a0139-876f-43d7-9332-0cb864e36985')\"\n",
              "                title=\"Suggest charts\"\n",
              "                style=\"display:none;\">\n",
              "\n",
              "<svg xmlns=\"http://www.w3.org/2000/svg\" height=\"24px\"viewBox=\"0 0 24 24\"\n",
              "     width=\"24px\">\n",
              "    <g>\n",
              "        <path d=\"M19 3H5c-1.1 0-2 .9-2 2v14c0 1.1.9 2 2 2h14c1.1 0 2-.9 2-2V5c0-1.1-.9-2-2-2zM9 17H7v-7h2v7zm4 0h-2V7h2v10zm4 0h-2v-4h2v4z\"/>\n",
              "    </g>\n",
              "</svg>\n",
              "      </button>\n",
              "\n",
              "<style>\n",
              "  .colab-df-quickchart {\n",
              "      --bg-color: #E8F0FE;\n",
              "      --fill-color: #1967D2;\n",
              "      --hover-bg-color: #E2EBFA;\n",
              "      --hover-fill-color: #174EA6;\n",
              "      --disabled-fill-color: #AAA;\n",
              "      --disabled-bg-color: #DDD;\n",
              "  }\n",
              "\n",
              "  [theme=dark] .colab-df-quickchart {\n",
              "      --bg-color: #3B4455;\n",
              "      --fill-color: #D2E3FC;\n",
              "      --hover-bg-color: #434B5C;\n",
              "      --hover-fill-color: #FFFFFF;\n",
              "      --disabled-bg-color: #3B4455;\n",
              "      --disabled-fill-color: #666;\n",
              "  }\n",
              "\n",
              "  .colab-df-quickchart {\n",
              "    background-color: var(--bg-color);\n",
              "    border: none;\n",
              "    border-radius: 50%;\n",
              "    cursor: pointer;\n",
              "    display: none;\n",
              "    fill: var(--fill-color);\n",
              "    height: 32px;\n",
              "    padding: 0;\n",
              "    width: 32px;\n",
              "  }\n",
              "\n",
              "  .colab-df-quickchart:hover {\n",
              "    background-color: var(--hover-bg-color);\n",
              "    box-shadow: 0 1px 2px rgba(60, 64, 67, 0.3), 0 1px 3px 1px rgba(60, 64, 67, 0.15);\n",
              "    fill: var(--button-hover-fill-color);\n",
              "  }\n",
              "\n",
              "  .colab-df-quickchart-complete:disabled,\n",
              "  .colab-df-quickchart-complete:disabled:hover {\n",
              "    background-color: var(--disabled-bg-color);\n",
              "    fill: var(--disabled-fill-color);\n",
              "    box-shadow: none;\n",
              "  }\n",
              "\n",
              "  .colab-df-spinner {\n",
              "    border: 2px solid var(--fill-color);\n",
              "    border-color: transparent;\n",
              "    border-bottom-color: var(--fill-color);\n",
              "    animation:\n",
              "      spin 1s steps(1) infinite;\n",
              "  }\n",
              "\n",
              "  @keyframes spin {\n",
              "    0% {\n",
              "      border-color: transparent;\n",
              "      border-bottom-color: var(--fill-color);\n",
              "      border-left-color: var(--fill-color);\n",
              "    }\n",
              "    20% {\n",
              "      border-color: transparent;\n",
              "      border-left-color: var(--fill-color);\n",
              "      border-top-color: var(--fill-color);\n",
              "    }\n",
              "    30% {\n",
              "      border-color: transparent;\n",
              "      border-left-color: var(--fill-color);\n",
              "      border-top-color: var(--fill-color);\n",
              "      border-right-color: var(--fill-color);\n",
              "    }\n",
              "    40% {\n",
              "      border-color: transparent;\n",
              "      border-right-color: var(--fill-color);\n",
              "      border-top-color: var(--fill-color);\n",
              "    }\n",
              "    60% {\n",
              "      border-color: transparent;\n",
              "      border-right-color: var(--fill-color);\n",
              "    }\n",
              "    80% {\n",
              "      border-color: transparent;\n",
              "      border-right-color: var(--fill-color);\n",
              "      border-bottom-color: var(--fill-color);\n",
              "    }\n",
              "    90% {\n",
              "      border-color: transparent;\n",
              "      border-bottom-color: var(--fill-color);\n",
              "    }\n",
              "  }\n",
              "</style>\n",
              "\n",
              "      <script>\n",
              "        async function quickchart(key) {\n",
              "          const quickchartButtonEl =\n",
              "            document.querySelector('#' + key + ' button');\n",
              "          quickchartButtonEl.disabled = true;  // To prevent multiple clicks.\n",
              "          quickchartButtonEl.classList.add('colab-df-spinner');\n",
              "          try {\n",
              "            const charts = await google.colab.kernel.invokeFunction(\n",
              "                'suggestCharts', [key], {});\n",
              "          } catch (error) {\n",
              "            console.error('Error during call to suggestCharts:', error);\n",
              "          }\n",
              "          quickchartButtonEl.classList.remove('colab-df-spinner');\n",
              "          quickchartButtonEl.classList.add('colab-df-quickchart-complete');\n",
              "        }\n",
              "        (() => {\n",
              "          let quickchartButtonEl =\n",
              "            document.querySelector('#df-1d8a0139-876f-43d7-9332-0cb864e36985 button');\n",
              "          quickchartButtonEl.style.display =\n",
              "            google.colab.kernel.accessAllowed ? 'block' : 'none';\n",
              "        })();\n",
              "      </script>\n",
              "    </div>\n",
              "\n",
              "  <div id=\"id_f69c4686-5496-4715-a24d-7dd47d6547cc\">\n",
              "    <style>\n",
              "      .colab-df-generate {\n",
              "        background-color: #E8F0FE;\n",
              "        border: none;\n",
              "        border-radius: 50%;\n",
              "        cursor: pointer;\n",
              "        display: none;\n",
              "        fill: #1967D2;\n",
              "        height: 32px;\n",
              "        padding: 0 0 0 0;\n",
              "        width: 32px;\n",
              "      }\n",
              "\n",
              "      .colab-df-generate:hover {\n",
              "        background-color: #E2EBFA;\n",
              "        box-shadow: 0px 1px 2px rgba(60, 64, 67, 0.3), 0px 1px 3px 1px rgba(60, 64, 67, 0.15);\n",
              "        fill: #174EA6;\n",
              "      }\n",
              "\n",
              "      [theme=dark] .colab-df-generate {\n",
              "        background-color: #3B4455;\n",
              "        fill: #D2E3FC;\n",
              "      }\n",
              "\n",
              "      [theme=dark] .colab-df-generate:hover {\n",
              "        background-color: #434B5C;\n",
              "        box-shadow: 0px 1px 3px 1px rgba(0, 0, 0, 0.15);\n",
              "        filter: drop-shadow(0px 1px 2px rgba(0, 0, 0, 0.3));\n",
              "        fill: #FFFFFF;\n",
              "      }\n",
              "    </style>\n",
              "    <button class=\"colab-df-generate\" onclick=\"generateWithVariable('marital_status_by_age_band')\"\n",
              "            title=\"Generate code using this dataframe.\"\n",
              "            style=\"display:none;\">\n",
              "\n",
              "  <svg xmlns=\"http://www.w3.org/2000/svg\" height=\"24px\"viewBox=\"0 0 24 24\"\n",
              "       width=\"24px\">\n",
              "    <path d=\"M7,19H8.4L18.45,9,17,7.55,7,17.6ZM5,21V16.75L18.45,3.32a2,2,0,0,1,2.83,0l1.4,1.43a1.91,1.91,0,0,1,.58,1.4,1.91,1.91,0,0,1-.58,1.4L9.25,21ZM18.45,9,17,7.55Zm-12,3A5.31,5.31,0,0,0,4.9,8.1,5.31,5.31,0,0,0,1,6.5,5.31,5.31,0,0,0,4.9,4.9,5.31,5.31,0,0,0,6.5,1,5.31,5.31,0,0,0,8.1,4.9,5.31,5.31,0,0,0,12,6.5,5.46,5.46,0,0,0,6.5,12Z\"/>\n",
              "  </svg>\n",
              "    </button>\n",
              "    <script>\n",
              "      (() => {\n",
              "      const buttonEl =\n",
              "        document.querySelector('#id_f69c4686-5496-4715-a24d-7dd47d6547cc button.colab-df-generate');\n",
              "      buttonEl.style.display =\n",
              "        google.colab.kernel.accessAllowed ? 'block' : 'none';\n",
              "\n",
              "      buttonEl.onclick = () => {\n",
              "        google.colab.notebook.generateWithVariable('marital_status_by_age_band');\n",
              "      }\n",
              "      })();\n",
              "    </script>\n",
              "  </div>\n",
              "\n",
              "    </div>\n",
              "  </div>\n"
            ],
            "application/vnd.google.colaboratory.intrinsic+json": {
              "type": "dataframe",
              "variable_name": "marital_status_by_age_band",
              "summary": "{\n  \"name\": \"marital_status_by_age_band\",\n  \"rows\": 8,\n  \"fields\": [\n    {\n      \"column\": \"AgeBand\",\n      \"properties\": {\n        \"dtype\": \"category\",\n        \"num_unique_values\": 8,\n        \"samples\": [\n          \"[10, 20)\",\n          \"[50, 60)\",\n          \"[0, 10)\"\n        ],\n        \"semantic_type\": \"\",\n        \"description\": \"\"\n      }\n    },\n    {\n      \"column\": \"Divorced\",\n      \"properties\": {\n        \"dtype\": \"number\",\n        \"std\": 0.08364815939910357,\n        \"min\": 0.0,\n        \"max\": 0.18376068376068377,\n        \"num_unique_values\": 7,\n        \"samples\": [\n          0.0,\n          0.01616161616161616,\n          0.18376068376068377\n        ],\n        \"semantic_type\": \"\",\n        \"description\": \"\"\n      }\n    },\n    {\n      \"column\": \"Living with partner\",\n      \"properties\": {\n        \"dtype\": \"number\",\n        \"std\": 0.07441491476745078,\n        \"min\": 0.0,\n        \"max\": 0.21414141414141413,\n        \"num_unique_values\": 7,\n        \"samples\": [\n          0.0,\n          0.21414141414141413,\n          0.04700854700854701\n        ],\n        \"semantic_type\": \"\",\n        \"description\": \"\"\n      }\n    },\n    {\n      \"column\": \"Married\",\n      \"properties\": {\n        \"dtype\": \"number\",\n        \"std\": 0.23749781588479782,\n        \"min\": 0.0,\n        \"max\": 0.5694716242661448,\n        \"num_unique_values\": 7,\n        \"samples\": [\n          0.0,\n          0.26464646464646463,\n          0.49786324786324787\n        ],\n        \"semantic_type\": \"\",\n        \"description\": \"\"\n      }\n    },\n    {\n      \"column\": \"Never married\",\n      \"properties\": {\n        \"dtype\": \"number\",\n        \"std\": 0.15948401123803616,\n        \"min\": 0.0,\n        \"max\": 0.48484848484848486,\n        \"num_unique_values\": 7,\n        \"samples\": [\n          0.0,\n          0.48484848484848486,\n          0.09188034188034189\n        ],\n        \"semantic_type\": \"\",\n        \"description\": \"\"\n      }\n    },\n    {\n      \"column\": \"Refused\",\n      \"properties\": {\n        \"dtype\": \"number\",\n        \"std\": 0.0007554559628061406,\n        \"min\": 0.0,\n        \"max\": 0.002136752136752137,\n        \"num_unique_values\": 2,\n        \"samples\": [\n          0.002136752136752137,\n          0.0\n        ],\n        \"semantic_type\": \"\",\n        \"description\": \"\"\n      }\n    },\n    {\n      \"column\": \"Separated\",\n      \"properties\": {\n        \"dtype\": \"number\",\n        \"std\": 0.02449919049296587,\n        \"min\": 0.0,\n        \"max\": 0.06262230919765166,\n        \"num_unique_values\": 7,\n        \"samples\": [\n          0.0,\n          0.020202020202020204\n        ],\n        \"semantic_type\": \"\",\n        \"description\": \"\"\n      }\n    },\n    {\n      \"column\": \"Widowed\",\n      \"properties\": {\n        \"dtype\": \"number\",\n        \"std\": 0.1263546148758845,\n        \"min\": 0.0,\n        \"max\": 0.36363636363636365,\n        \"num_unique_values\": 6,\n        \"samples\": [\n          0.0,\n          0.004158004158004158\n        ],\n        \"semantic_type\": \"\",\n        \"description\": \"\"\n      }\n    }\n  ]\n}"
            }
          },
          "metadata": {}
        }
      ],
      "source": [
        "# Restrict to the female population\n",
        "female_data = da[da['RIAGENDR'] == 2].copy()\n",
        "\n",
        "# Create age bands (no wider than 10 years)\n",
        "# Using cut to create bins for age\n",
        "age_bins = range(0, female_data['RIDAGEYR'].max() + 10, 10)\n",
        "female_data['AgeBand'] = pd.cut(female_data['RIDAGEYR'], bins=age_bins, right=False)\n",
        "\n",
        "# Construct the distribution of marital status within each age band as proportions\n",
        "marital_status_by_age_band = female_data.groupby('AgeBand', observed=False)['Marital Status'].value_counts(normalize=True).unstack()\n",
        "\n",
        "# Display the results\n",
        "display(marital_status_by_age_band)"
      ]
    },
    {
      "cell_type": "markdown",
      "metadata": {
        "id": "aU1hj8PFj0oP"
      },
      "source": [
        "__Q2a.__ Comment on the trends that you see in this series of marginal distributions."
      ]
    },
    {
      "cell_type": "raw",
      "metadata": {
        "id": "FcO7ry36j0oP"
      },
      "source": []
    },
    {
      "cell_type": "markdown",
      "metadata": {
        "id": "BEbizwQKj0oP"
      },
      "source": [
        "__Q2b.__ Repeat the construction for males."
      ]
    },
    {
      "cell_type": "code",
      "execution_count": null,
      "metadata": {
        "id": "QGDsRQZGj0oP"
      },
      "outputs": [],
      "source": [
        "# insert your code here"
      ]
    },
    {
      "cell_type": "markdown",
      "metadata": {
        "id": "OjRPyTroj0oP"
      },
      "source": [
        "__Q2c.__ Comment on any notable differences that you see when comparing these results for females and for males."
      ]
    },
    {
      "cell_type": "raw",
      "metadata": {
        "id": "hpOYwh1Aj0oP"
      },
      "source": []
    },
    {
      "cell_type": "markdown",
      "metadata": {
        "id": "m5r_qS4Nj0oP"
      },
      "source": [
        "## Question 3\n",
        "\n",
        "Construct a histogram of the distribution of heights using the BMXHT variable in the NHANES sample."
      ]
    },
    {
      "cell_type": "code",
      "execution_count": null,
      "metadata": {
        "id": "WQ833uA_j0oP"
      },
      "outputs": [],
      "source": [
        "# insert your code here"
      ]
    },
    {
      "cell_type": "markdown",
      "metadata": {
        "id": "MA7xStNvj0oP"
      },
      "source": [
        "__Q3a.__ Use the `bins` argument to [distplot](https://seaborn.pydata.org/generated/seaborn.distplot.html) to produce histograms with different numbers of bins.  Assess whether the default value for this argument gives a meaningful result, and comment on what happens as the number of bins grows excessively large or excessively small."
      ]
    },
    {
      "cell_type": "raw",
      "metadata": {
        "id": "ywEowsGoj0oP"
      },
      "source": []
    },
    {
      "cell_type": "markdown",
      "metadata": {
        "id": "KU1A0N-2j0oP"
      },
      "source": [
        "__Q3b.__ Make separate histograms for the heights of women and men, then make a side-by-side boxplot showing the heights of women and men."
      ]
    },
    {
      "cell_type": "code",
      "execution_count": null,
      "metadata": {
        "id": "gQWEEtN2j0oP"
      },
      "outputs": [],
      "source": [
        "# insert your code here"
      ]
    },
    {
      "cell_type": "markdown",
      "metadata": {
        "id": "zDJyE9BWj0oP"
      },
      "source": [
        "__Q3c.__ Comment on what features, if any are not represented clearly in the boxplots, and what features, if any, are easier to see in the boxplots than in the histograms."
      ]
    },
    {
      "cell_type": "raw",
      "metadata": {
        "id": "roIUbli9j0oP"
      },
      "source": []
    },
    {
      "cell_type": "markdown",
      "metadata": {
        "id": "lKXx7cEvj0oQ"
      },
      "source": [
        "## Question 4\n",
        "\n",
        "Make a boxplot showing the distribution of within-subject differences between the first and second systolic blood pressure measurents ([BPXSY1](https://wwwn.cdc.gov/Nchs/Nhanes/2015-2016/BPX_I.htm#BPXSY1) and [BPXSY2](https://wwwn.cdc.gov/Nchs/Nhanes/2015-2016/BPX_I.htm#BPXSY2))."
      ]
    },
    {
      "cell_type": "code",
      "execution_count": null,
      "metadata": {
        "id": "Y-4WHF9Aj0oQ"
      },
      "outputs": [],
      "source": [
        "# insert your code here"
      ]
    },
    {
      "cell_type": "markdown",
      "metadata": {
        "id": "Eq8HQJUdj0oQ"
      },
      "source": [
        "__Q4a.__ What proportion of the subjects have a lower SBP on the second reading compared to the first?"
      ]
    },
    {
      "cell_type": "code",
      "execution_count": null,
      "metadata": {
        "id": "Lyuy2xkmj0oQ"
      },
      "outputs": [],
      "source": [
        "# insert your code here"
      ]
    },
    {
      "cell_type": "markdown",
      "metadata": {
        "id": "kKJHJOq0j0oQ"
      },
      "source": [
        "__Q4b.__ Make side-by-side boxplots of the two systolic blood pressure variables."
      ]
    },
    {
      "cell_type": "code",
      "execution_count": null,
      "metadata": {
        "id": "7mUNCGIVj0oQ"
      },
      "outputs": [],
      "source": [
        "# insert your code here"
      ]
    },
    {
      "cell_type": "markdown",
      "metadata": {
        "id": "FFnZ_VnUj0oQ"
      },
      "source": [
        "__Q4c.__ Comment on the variation within either the first or second systolic blood pressure measurements, and the variation in the within-subject differences between the first and second systolic blood pressure measurements."
      ]
    },
    {
      "cell_type": "raw",
      "metadata": {
        "id": "etLdMDhmj0oQ"
      },
      "source": []
    },
    {
      "cell_type": "markdown",
      "metadata": {
        "id": "E1HLx5Vuj0oQ"
      },
      "source": [
        "## Question 5\n",
        "\n",
        "Construct a frequency table of household sizes for people within each educational attainment category (the relevant variable is [DMDEDUC2](https://wwwn.cdc.gov/Nchs/Nhanes/2015-2016/DEMO_I.htm#DMDEDUC2)).  Convert the frequencies to proportions."
      ]
    },
    {
      "cell_type": "code",
      "execution_count": null,
      "metadata": {
        "id": "kNtxVkn5j0oQ"
      },
      "outputs": [],
      "source": [
        "# insert your code here"
      ]
    },
    {
      "cell_type": "markdown",
      "metadata": {
        "id": "fYg1MeWGj0oQ"
      },
      "source": [
        "__Q5a.__ Comment on any major differences among the distributions."
      ]
    },
    {
      "cell_type": "raw",
      "metadata": {
        "id": "Ua7Xf0Ebj0oQ"
      },
      "source": []
    },
    {
      "cell_type": "markdown",
      "metadata": {
        "id": "0u7lgwbXj0oZ"
      },
      "source": [
        "__Q5b.__ Restrict the sample to people between 30 and 40 years of age.  Then calculate the median household size for women and men within each level of educational attainment."
      ]
    },
    {
      "cell_type": "code",
      "execution_count": null,
      "metadata": {
        "id": "KzNCCSLVj0oa"
      },
      "outputs": [],
      "source": [
        "# insert your code here"
      ]
    },
    {
      "cell_type": "markdown",
      "metadata": {
        "id": "jE1IuJozj0oa"
      },
      "source": [
        "## Question 6\n",
        "\n",
        "The participants can be clustered into \"maked variance units\" (MVU) based on every combination of the variables [SDMVSTRA](https://wwwn.cdc.gov/Nchs/Nhanes/2015-2016/DEMO_I.htm#SDMVSTRA) and [SDMVPSU](https://wwwn.cdc.gov/Nchs/Nhanes/2015-2016/DEMO_I.htm#SDMVPSU).  Calculate the mean age ([RIDAGEYR](https://wwwn.cdc.gov/Nchs/Nhanes/2015-2016/DEMO_I.htm#RIDAGEYR)), height ([BMXHT](https://wwwn.cdc.gov/Nchs/Nhanes/2015-2016/BMX_I.htm#BMXHT)), and BMI ([BMXBMI](https://wwwn.cdc.gov/Nchs/Nhanes/2015-2016/BMX_I.htm#BMXBMI)) for each gender ([RIAGENDR](https://wwwn.cdc.gov/Nchs/Nhanes/2015-2016/DEMO_I.htm#RIAGENDR)), within each MVU, and report the ratio between the largest and smallest mean (e.g. for height) across the MVUs."
      ]
    },
    {
      "cell_type": "code",
      "execution_count": null,
      "metadata": {
        "id": "xzpNuTsAj0oa"
      },
      "outputs": [],
      "source": [
        "# insert your code here"
      ]
    },
    {
      "cell_type": "markdown",
      "metadata": {
        "id": "WIIWpFnzj0oa"
      },
      "source": [
        "__Q6a.__ Comment on the extent to which mean age, height, and BMI vary among the MVUs."
      ]
    },
    {
      "cell_type": "raw",
      "metadata": {
        "id": "M_UgpnK3j0oa"
      },
      "source": []
    },
    {
      "cell_type": "markdown",
      "metadata": {
        "id": "4eSTE8zVj0oa"
      },
      "source": [
        "__Q6b.__ Calculate the inter-quartile range (IQR) for age, height, and BMI for each gender and each MVU.  Report the ratio between the largest and smalles IQR across the MVUs."
      ]
    },
    {
      "cell_type": "code",
      "execution_count": null,
      "metadata": {
        "id": "XZnnMNMlj0oa"
      },
      "outputs": [],
      "source": [
        "# insert your code here"
      ]
    },
    {
      "cell_type": "markdown",
      "metadata": {
        "id": "j8u0cnDIj0oa"
      },
      "source": [
        "__Q6c.__ Comment on the extent to which the IQR for age, height, and BMI vary among the MVUs."
      ]
    },
    {
      "cell_type": "raw",
      "metadata": {
        "id": "O9XKKZxlj0oa"
      },
      "source": []
    }
  ],
  "metadata": {
    "kernelspec": {
      "display_name": "Python 3 (ipykernel)",
      "language": "python",
      "name": "python3"
    },
    "language_info": {
      "codemirror_mode": {
        "name": "ipython",
        "version": 3
      },
      "file_extension": ".py",
      "mimetype": "text/x-python",
      "name": "python",
      "nbconvert_exporter": "python",
      "pygments_lexer": "ipython3",
      "version": "3.9.12"
    },
    "colab": {
      "provenance": []
    }
  },
  "nbformat": 4,
  "nbformat_minor": 0
}